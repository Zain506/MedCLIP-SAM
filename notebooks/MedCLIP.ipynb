{
  "cells": [
    {
      "cell_type": "markdown",
      "metadata": {
        "id": "a28_IQaUIlBV"
      },
      "source": [
        "# Interpret and deploy MedCLIP pipeline\n",
        "\n",
        "## Method\n",
        "1. Input text(s) and generate tokens for each one (before applying Attention Mechanism) -- tokenizer\n",
        "2. Apply Attention Mechanism via Neural Network -- model\n",
        "3. Pool outputs to generate 1 single embedding\n",
        "\n",
        "\n",
        "## How to proceed\n",
        "- We can use SentenceTransformer to simply run SentenceTransformer(\"...\").encode(text) without dealing with pooling.\n",
        "- Using Transformers requires more manual work\n",
        "- SentenceTransformer is not available for this model\n",
        "- Transformers requires an AutoTokenizer to preprocess the text into IDs, with padding, truncation parameters\n",
        "- Then we use AutoModel which is the actual Neural Network to create an output\n",
        "- This outputs an embedding per token, and we take a representative pool for an entire sentence embedding"
      ]
    },
    {
      "cell_type": "code",
      "execution_count": null,
      "metadata": {
        "colab": {
          "base_uri": "https://localhost:8080/"
        },
        "collapsed": true,
        "id": "QU-_cTRoLv_2",
        "outputId": "cc8eead0-05ca-4bbd-9031-17e4f93e689a"
      },
      "outputs": [],
      "source": [
        "%pip install transformers torch ipywidgets"
      ]
    },
    {
      "cell_type": "code",
      "execution_count": null,
      "metadata": {
        "id": "kHGRfe2QIn3E"
      },
      "outputs": [],
      "source": [
        "from transformers import AutoTokenizer, AutoModel\n",
        "import torch\n",
        "tokeniser = AutoTokenizer.from_pretrained(\"emilyalsentzer/Bio_ClinicalBERT\") # Generate input tokens\n",
        "texts = [\n",
        "    \"Patient has a cold\",\n",
        "    \"Patient has a sore throat and no other symptoms\",\n",
        "    \"Patient is vomiting blood and has a collapsed lung\"\n",
        "    ]"
      ]
    },
    {
      "cell_type": "code",
      "execution_count": null,
      "metadata": {
        "colab": {
          "base_uri": "https://localhost:8080/"
        },
        "id": "krn9tOo4JaXO",
        "outputId": "0eeae437-be36-4dea-f400-b854dc378fdb"
      },
      "outputs": [],
      "source": [
        "inputs = tokeniser(texts, padding=True, truncation=True, return_tensors=\"pt\") # Tokens\n",
        "print(inputs)"
      ]
    },
    {
      "cell_type": "code",
      "execution_count": null,
      "metadata": {
        "colab": {
          "base_uri": "https://localhost:8080/",
          "height": 98,
          "referenced_widgets": [
            "1bdf7d83751d4ce9801e30f53f8b5d31",
            "6ed7cd39aa6249f68ac35fb503901e8e",
            "5fca103ef9ea4182b6407e580091de7c",
            "f355bd021b5e4715a5d547568b5ef4f4",
            "6f07b0abd15b45a4883346ef154be3bd",
            "9102cfb5aa4e41a492f7d04d759f949b",
            "5863a1aa7a194f3093789bfea78c5595",
            "6eaa6b58718e4dd5985fdb21631cc1a4",
            "3a803e0d77b5457eadccbd36c7445e64",
            "7933cf5f2f38427ea26ea15f7a8dd888",
            "959a8c6682334376a64f0019f8a0bbc2",
            "0e3807894a2147549214f58197dd312c",
            "cd7eec8550014656bd4744be741ce2f8",
            "5ef94d1427104c539044906221372a65",
            "a779f62b315f4c2eb9d49531d7d69d0e",
            "fce413e4db5a447ab2d8a8b753c68c83",
            "91e3a19157d24a0388bc85da4875d02a",
            "1e4d0a6ea3194c11a789cee99bb2a20d",
            "d182a9c4ca4f4ea5ba02e8e0297bd2cf",
            "7745b0dea9af40f5bbdb0849c654f308",
            "6523a4b21a4746eab8d84dc1c30f38c1",
            "52daf810c26b44aca31c843df2b25831"
          ]
        },
        "id": "LbSrWzYNJe54",
        "outputId": "9f515c40-d062-4117-ea8f-f8a19799c10a"
      },
      "outputs": [],
      "source": [
        "model = AutoModel.from_pretrained(\"emilyalsentzer/Bio_ClinicalBERT\") # Load Neural Network\n",
        "with torch.no_grad(): # Apply forward pass without calculating gradients to speed up computation\n",
        "    outputs = model(**inputs) # Apply Attention Mechanism to each token to generate embeddings\n",
        "\n",
        "hidden_states = outputs.last_hidden_state # \"Hidden_states\" is the attention-mechanism output\n",
        "print(hidden_states.shape)"
      ]
    },
    {
      "cell_type": "code",
      "execution_count": null,
      "metadata": {
        "colab": {
          "base_uri": "https://localhost:8080/"
        },
        "id": "Y_kswWAOJjbq",
        "outputId": "5abfdfd3-c9b1-496f-9e7d-a5647409d714"
      },
      "outputs": [],
      "source": [
        "# Apply Pooling with a mask (similar to filtering Pandas DataFrame)\n",
        "mask = inputs[\"attention_mask\"].unsqueeze(-1)\n",
        "pooled = (hidden_states * mask).sum(dim=1) / mask.sum(dim=1)\n",
        "print(pooled)"
      ]
    },
    {
      "cell_type": "markdown",
      "metadata": {
        "id": "w8027HqDJkrS"
      },
      "source": [
        "# Full Text Encoder class loading"
      ]
    },
    {
      "cell_type": "code",
      "execution_count": null,
      "metadata": {
        "id": "aJ-RJgDiJnFg"
      },
      "outputs": [],
      "source": [
        "from transformers import AutoTokenizer, AutoModel\n",
        "import torch\n",
        "\n",
        "class Model:\n",
        "    \"\"\"Import model with AutoTokenizer and Automodel. Defaults to BioClinicalBERT\"\"\"\n",
        "    def __init__(self, link=\"emilyalsentzer/Bio_ClinicalBERT\"):\n",
        "        self.tokenizer = AutoTokenizer.from_pretrained(link)\n",
        "        self.model = AutoModel.from_pretrained(link) # Load Neural Network\n",
        "    def embeddings(self, texts):\n",
        "        inputs = self.tokenizer(texts, padding=True, truncation=True, return_tensors=\"pt\") # Tokens\n",
        "\n",
        "        with torch.no_grad(): # Apply forward pass without calculating gradients to speed up computation\n",
        "            outputs = self.model(**inputs) # Apply Attention Mechanism to each token to generate embeddings\n",
        "\n",
        "        hidden_states = outputs.last_hidden_state # \"Hidden_states\" is the attention-mechanism output\n",
        "        # Apply Pooling with a mask (similar to filtering Pandas DataFrame)\n",
        "        mask = inputs[\"attention_mask\"].unsqueeze(-1)\n",
        "        pooled = (hidden_states * mask).sum(dim=1) / mask.sum(dim=1)\n",
        "        return pooled"
      ]
    },
    {
      "cell_type": "code",
      "execution_count": null,
      "metadata": {
        "colab": {
          "base_uri": "https://localhost:8080/"
        },
        "id": "pNRANOF6Jsh7",
        "outputId": "45659e5d-95c6-41ff-f404-d7824294cd95"
      },
      "outputs": [],
      "source": [
        "tmp = Model().embeddings([\"Patient has a cold\", \"Patient is vomiting blood\"])\n",
        "print(tmp)"
      ]
    },
    {
      "cell_type": "markdown",
      "metadata": {
        "id": "LKp1ijVhJvSc"
      },
      "source": [
        "# Image Encoder\n",
        "We use the swin transformer by microsoft: https://huggingface.co/microsoft/swinv2-tiny-patch4-window16-256"
      ]
    },
    {
      "cell_type": "code",
      "execution_count": null,
      "metadata": {
        "colab": {
          "base_uri": "https://localhost:8080/"
        },
        "id": "fFrDqRNoKPpW",
        "outputId": "cc2a567a-8769-4784-984c-196827e745e9"
      },
      "outputs": [],
      "source": [
        "# Use a pipeline as a high-level helper\n",
        "from transformers import pipeline\n",
        "\n",
        "pipe = pipeline(\"image-classification\", model=\"microsoft/swinv2-tiny-patch4-window16-256\", use_fast=True)\n",
        "pipe(\"https://huggingface.co/datasets/huggingface/documentation-images/resolve/main/hub/parrots.png\")"
      ]
    },
    {
      "cell_type": "markdown",
      "metadata": {},
      "source": [
        "- Test component"
      ]
    }
  ],
  "metadata": {
    "accelerator": "GPU",
    "colab": {
      "authorship_tag": "ABX9TyMTAmI5KyHjZMWyMWVy9kwN",
      "gpuType": "T4",
      "include_colab_link": true,
      "provenance": []
    },
    "kernelspec": {
      "display_name": "Python 3",
      "name": "python3"
    },
    "language_info": {
      "name": "python"
    },
    "widgets": {
      "application/vnd.jupyter.widget-state+json": {
        "0e3807894a2147549214f58197dd312c": {
          "model_module": "@jupyter-widgets/controls",
          "model_module_version": "1.5.0",
          "model_name": "HBoxModel",
          "state": {
            "_dom_classes": [],
            "_model_module": "@jupyter-widgets/controls",
            "_model_module_version": "1.5.0",
            "_model_name": "HBoxModel",
            "_view_count": null,
            "_view_module": "@jupyter-widgets/controls",
            "_view_module_version": "1.5.0",
            "_view_name": "HBoxView",
            "box_style": "",
            "children": [
              "IPY_MODEL_cd7eec8550014656bd4744be741ce2f8",
              "IPY_MODEL_5ef94d1427104c539044906221372a65",
              "IPY_MODEL_a779f62b315f4c2eb9d49531d7d69d0e"
            ],
            "layout": "IPY_MODEL_fce413e4db5a447ab2d8a8b753c68c83"
          }
        },
        "1bdf7d83751d4ce9801e30f53f8b5d31": {
          "model_module": "@jupyter-widgets/controls",
          "model_module_version": "1.5.0",
          "model_name": "HBoxModel",
          "state": {
            "_dom_classes": [],
            "_model_module": "@jupyter-widgets/controls",
            "_model_module_version": "1.5.0",
            "_model_name": "HBoxModel",
            "_view_count": null,
            "_view_module": "@jupyter-widgets/controls",
            "_view_module_version": "1.5.0",
            "_view_name": "HBoxView",
            "box_style": "",
            "children": [
              "IPY_MODEL_6ed7cd39aa6249f68ac35fb503901e8e",
              "IPY_MODEL_5fca103ef9ea4182b6407e580091de7c",
              "IPY_MODEL_f355bd021b5e4715a5d547568b5ef4f4"
            ],
            "layout": "IPY_MODEL_6f07b0abd15b45a4883346ef154be3bd"
          }
        },
        "1e4d0a6ea3194c11a789cee99bb2a20d": {
          "model_module": "@jupyter-widgets/controls",
          "model_module_version": "1.5.0",
          "model_name": "DescriptionStyleModel",
          "state": {
            "_model_module": "@jupyter-widgets/controls",
            "_model_module_version": "1.5.0",
            "_model_name": "DescriptionStyleModel",
            "_view_count": null,
            "_view_module": "@jupyter-widgets/base",
            "_view_module_version": "1.2.0",
            "_view_name": "StyleView",
            "description_width": ""
          }
        },
        "3a803e0d77b5457eadccbd36c7445e64": {
          "model_module": "@jupyter-widgets/controls",
          "model_module_version": "1.5.0",
          "model_name": "ProgressStyleModel",
          "state": {
            "_model_module": "@jupyter-widgets/controls",
            "_model_module_version": "1.5.0",
            "_model_name": "ProgressStyleModel",
            "_view_count": null,
            "_view_module": "@jupyter-widgets/base",
            "_view_module_version": "1.2.0",
            "_view_name": "StyleView",
            "bar_color": null,
            "description_width": ""
          }
        },
        "52daf810c26b44aca31c843df2b25831": {
          "model_module": "@jupyter-widgets/controls",
          "model_module_version": "1.5.0",
          "model_name": "DescriptionStyleModel",
          "state": {
            "_model_module": "@jupyter-widgets/controls",
            "_model_module_version": "1.5.0",
            "_model_name": "DescriptionStyleModel",
            "_view_count": null,
            "_view_module": "@jupyter-widgets/base",
            "_view_module_version": "1.2.0",
            "_view_name": "StyleView",
            "description_width": ""
          }
        },
        "5863a1aa7a194f3093789bfea78c5595": {
          "model_module": "@jupyter-widgets/controls",
          "model_module_version": "1.5.0",
          "model_name": "DescriptionStyleModel",
          "state": {
            "_model_module": "@jupyter-widgets/controls",
            "_model_module_version": "1.5.0",
            "_model_name": "DescriptionStyleModel",
            "_view_count": null,
            "_view_module": "@jupyter-widgets/base",
            "_view_module_version": "1.2.0",
            "_view_name": "StyleView",
            "description_width": ""
          }
        },
        "5ef94d1427104c539044906221372a65": {
          "model_module": "@jupyter-widgets/controls",
          "model_module_version": "1.5.0",
          "model_name": "FloatProgressModel",
          "state": {
            "_dom_classes": [],
            "_model_module": "@jupyter-widgets/controls",
            "_model_module_version": "1.5.0",
            "_model_name": "FloatProgressModel",
            "_view_count": null,
            "_view_module": "@jupyter-widgets/controls",
            "_view_module_version": "1.5.0",
            "_view_name": "ProgressView",
            "bar_style": "success",
            "description": "",
            "description_tooltip": null,
            "layout": "IPY_MODEL_d182a9c4ca4f4ea5ba02e8e0297bd2cf",
            "max": 435755888,
            "min": 0,
            "orientation": "horizontal",
            "style": "IPY_MODEL_7745b0dea9af40f5bbdb0849c654f308",
            "value": 435755888
          }
        },
        "5fca103ef9ea4182b6407e580091de7c": {
          "model_module": "@jupyter-widgets/controls",
          "model_module_version": "1.5.0",
          "model_name": "FloatProgressModel",
          "state": {
            "_dom_classes": [],
            "_model_module": "@jupyter-widgets/controls",
            "_model_module_version": "1.5.0",
            "_model_name": "FloatProgressModel",
            "_view_count": null,
            "_view_module": "@jupyter-widgets/controls",
            "_view_module_version": "1.5.0",
            "_view_name": "ProgressView",
            "bar_style": "success",
            "description": "",
            "description_tooltip": null,
            "layout": "IPY_MODEL_6eaa6b58718e4dd5985fdb21631cc1a4",
            "max": 435778770,
            "min": 0,
            "orientation": "horizontal",
            "style": "IPY_MODEL_3a803e0d77b5457eadccbd36c7445e64",
            "value": 435778770
          }
        },
        "6523a4b21a4746eab8d84dc1c30f38c1": {
          "model_module": "@jupyter-widgets/base",
          "model_module_version": "1.2.0",
          "model_name": "LayoutModel",
          "state": {
            "_model_module": "@jupyter-widgets/base",
            "_model_module_version": "1.2.0",
            "_model_name": "LayoutModel",
            "_view_count": null,
            "_view_module": "@jupyter-widgets/base",
            "_view_module_version": "1.2.0",
            "_view_name": "LayoutView",
            "align_content": null,
            "align_items": null,
            "align_self": null,
            "border": null,
            "bottom": null,
            "display": null,
            "flex": null,
            "flex_flow": null,
            "grid_area": null,
            "grid_auto_columns": null,
            "grid_auto_flow": null,
            "grid_auto_rows": null,
            "grid_column": null,
            "grid_gap": null,
            "grid_row": null,
            "grid_template_areas": null,
            "grid_template_columns": null,
            "grid_template_rows": null,
            "height": null,
            "justify_content": null,
            "justify_items": null,
            "left": null,
            "margin": null,
            "max_height": null,
            "max_width": null,
            "min_height": null,
            "min_width": null,
            "object_fit": null,
            "object_position": null,
            "order": null,
            "overflow": null,
            "overflow_x": null,
            "overflow_y": null,
            "padding": null,
            "right": null,
            "top": null,
            "visibility": null,
            "width": null
          }
        },
        "6eaa6b58718e4dd5985fdb21631cc1a4": {
          "model_module": "@jupyter-widgets/base",
          "model_module_version": "1.2.0",
          "model_name": "LayoutModel",
          "state": {
            "_model_module": "@jupyter-widgets/base",
            "_model_module_version": "1.2.0",
            "_model_name": "LayoutModel",
            "_view_count": null,
            "_view_module": "@jupyter-widgets/base",
            "_view_module_version": "1.2.0",
            "_view_name": "LayoutView",
            "align_content": null,
            "align_items": null,
            "align_self": null,
            "border": null,
            "bottom": null,
            "display": null,
            "flex": null,
            "flex_flow": null,
            "grid_area": null,
            "grid_auto_columns": null,
            "grid_auto_flow": null,
            "grid_auto_rows": null,
            "grid_column": null,
            "grid_gap": null,
            "grid_row": null,
            "grid_template_areas": null,
            "grid_template_columns": null,
            "grid_template_rows": null,
            "height": null,
            "justify_content": null,
            "justify_items": null,
            "left": null,
            "margin": null,
            "max_height": null,
            "max_width": null,
            "min_height": null,
            "min_width": null,
            "object_fit": null,
            "object_position": null,
            "order": null,
            "overflow": null,
            "overflow_x": null,
            "overflow_y": null,
            "padding": null,
            "right": null,
            "top": null,
            "visibility": null,
            "width": null
          }
        },
        "6ed7cd39aa6249f68ac35fb503901e8e": {
          "model_module": "@jupyter-widgets/controls",
          "model_module_version": "1.5.0",
          "model_name": "HTMLModel",
          "state": {
            "_dom_classes": [],
            "_model_module": "@jupyter-widgets/controls",
            "_model_module_version": "1.5.0",
            "_model_name": "HTMLModel",
            "_view_count": null,
            "_view_module": "@jupyter-widgets/controls",
            "_view_module_version": "1.5.0",
            "_view_name": "HTMLView",
            "description": "",
            "description_tooltip": null,
            "layout": "IPY_MODEL_9102cfb5aa4e41a492f7d04d759f949b",
            "placeholder": "​",
            "style": "IPY_MODEL_5863a1aa7a194f3093789bfea78c5595",
            "value": "pytorch_model.bin: 100%"
          }
        },
        "6f07b0abd15b45a4883346ef154be3bd": {
          "model_module": "@jupyter-widgets/base",
          "model_module_version": "1.2.0",
          "model_name": "LayoutModel",
          "state": {
            "_model_module": "@jupyter-widgets/base",
            "_model_module_version": "1.2.0",
            "_model_name": "LayoutModel",
            "_view_count": null,
            "_view_module": "@jupyter-widgets/base",
            "_view_module_version": "1.2.0",
            "_view_name": "LayoutView",
            "align_content": null,
            "align_items": null,
            "align_self": null,
            "border": null,
            "bottom": null,
            "display": null,
            "flex": null,
            "flex_flow": null,
            "grid_area": null,
            "grid_auto_columns": null,
            "grid_auto_flow": null,
            "grid_auto_rows": null,
            "grid_column": null,
            "grid_gap": null,
            "grid_row": null,
            "grid_template_areas": null,
            "grid_template_columns": null,
            "grid_template_rows": null,
            "height": null,
            "justify_content": null,
            "justify_items": null,
            "left": null,
            "margin": null,
            "max_height": null,
            "max_width": null,
            "min_height": null,
            "min_width": null,
            "object_fit": null,
            "object_position": null,
            "order": null,
            "overflow": null,
            "overflow_x": null,
            "overflow_y": null,
            "padding": null,
            "right": null,
            "top": null,
            "visibility": null,
            "width": null
          }
        },
        "7745b0dea9af40f5bbdb0849c654f308": {
          "model_module": "@jupyter-widgets/controls",
          "model_module_version": "1.5.0",
          "model_name": "ProgressStyleModel",
          "state": {
            "_model_module": "@jupyter-widgets/controls",
            "_model_module_version": "1.5.0",
            "_model_name": "ProgressStyleModel",
            "_view_count": null,
            "_view_module": "@jupyter-widgets/base",
            "_view_module_version": "1.2.0",
            "_view_name": "StyleView",
            "bar_color": null,
            "description_width": ""
          }
        },
        "7933cf5f2f38427ea26ea15f7a8dd888": {
          "model_module": "@jupyter-widgets/base",
          "model_module_version": "1.2.0",
          "model_name": "LayoutModel",
          "state": {
            "_model_module": "@jupyter-widgets/base",
            "_model_module_version": "1.2.0",
            "_model_name": "LayoutModel",
            "_view_count": null,
            "_view_module": "@jupyter-widgets/base",
            "_view_module_version": "1.2.0",
            "_view_name": "LayoutView",
            "align_content": null,
            "align_items": null,
            "align_self": null,
            "border": null,
            "bottom": null,
            "display": null,
            "flex": null,
            "flex_flow": null,
            "grid_area": null,
            "grid_auto_columns": null,
            "grid_auto_flow": null,
            "grid_auto_rows": null,
            "grid_column": null,
            "grid_gap": null,
            "grid_row": null,
            "grid_template_areas": null,
            "grid_template_columns": null,
            "grid_template_rows": null,
            "height": null,
            "justify_content": null,
            "justify_items": null,
            "left": null,
            "margin": null,
            "max_height": null,
            "max_width": null,
            "min_height": null,
            "min_width": null,
            "object_fit": null,
            "object_position": null,
            "order": null,
            "overflow": null,
            "overflow_x": null,
            "overflow_y": null,
            "padding": null,
            "right": null,
            "top": null,
            "visibility": null,
            "width": null
          }
        },
        "9102cfb5aa4e41a492f7d04d759f949b": {
          "model_module": "@jupyter-widgets/base",
          "model_module_version": "1.2.0",
          "model_name": "LayoutModel",
          "state": {
            "_model_module": "@jupyter-widgets/base",
            "_model_module_version": "1.2.0",
            "_model_name": "LayoutModel",
            "_view_count": null,
            "_view_module": "@jupyter-widgets/base",
            "_view_module_version": "1.2.0",
            "_view_name": "LayoutView",
            "align_content": null,
            "align_items": null,
            "align_self": null,
            "border": null,
            "bottom": null,
            "display": null,
            "flex": null,
            "flex_flow": null,
            "grid_area": null,
            "grid_auto_columns": null,
            "grid_auto_flow": null,
            "grid_auto_rows": null,
            "grid_column": null,
            "grid_gap": null,
            "grid_row": null,
            "grid_template_areas": null,
            "grid_template_columns": null,
            "grid_template_rows": null,
            "height": null,
            "justify_content": null,
            "justify_items": null,
            "left": null,
            "margin": null,
            "max_height": null,
            "max_width": null,
            "min_height": null,
            "min_width": null,
            "object_fit": null,
            "object_position": null,
            "order": null,
            "overflow": null,
            "overflow_x": null,
            "overflow_y": null,
            "padding": null,
            "right": null,
            "top": null,
            "visibility": null,
            "width": null
          }
        },
        "91e3a19157d24a0388bc85da4875d02a": {
          "model_module": "@jupyter-widgets/base",
          "model_module_version": "1.2.0",
          "model_name": "LayoutModel",
          "state": {
            "_model_module": "@jupyter-widgets/base",
            "_model_module_version": "1.2.0",
            "_model_name": "LayoutModel",
            "_view_count": null,
            "_view_module": "@jupyter-widgets/base",
            "_view_module_version": "1.2.0",
            "_view_name": "LayoutView",
            "align_content": null,
            "align_items": null,
            "align_self": null,
            "border": null,
            "bottom": null,
            "display": null,
            "flex": null,
            "flex_flow": null,
            "grid_area": null,
            "grid_auto_columns": null,
            "grid_auto_flow": null,
            "grid_auto_rows": null,
            "grid_column": null,
            "grid_gap": null,
            "grid_row": null,
            "grid_template_areas": null,
            "grid_template_columns": null,
            "grid_template_rows": null,
            "height": null,
            "justify_content": null,
            "justify_items": null,
            "left": null,
            "margin": null,
            "max_height": null,
            "max_width": null,
            "min_height": null,
            "min_width": null,
            "object_fit": null,
            "object_position": null,
            "order": null,
            "overflow": null,
            "overflow_x": null,
            "overflow_y": null,
            "padding": null,
            "right": null,
            "top": null,
            "visibility": null,
            "width": null
          }
        },
        "959a8c6682334376a64f0019f8a0bbc2": {
          "model_module": "@jupyter-widgets/controls",
          "model_module_version": "1.5.0",
          "model_name": "DescriptionStyleModel",
          "state": {
            "_model_module": "@jupyter-widgets/controls",
            "_model_module_version": "1.5.0",
            "_model_name": "DescriptionStyleModel",
            "_view_count": null,
            "_view_module": "@jupyter-widgets/base",
            "_view_module_version": "1.2.0",
            "_view_name": "StyleView",
            "description_width": ""
          }
        },
        "a779f62b315f4c2eb9d49531d7d69d0e": {
          "model_module": "@jupyter-widgets/controls",
          "model_module_version": "1.5.0",
          "model_name": "HTMLModel",
          "state": {
            "_dom_classes": [],
            "_model_module": "@jupyter-widgets/controls",
            "_model_module_version": "1.5.0",
            "_model_name": "HTMLModel",
            "_view_count": null,
            "_view_module": "@jupyter-widgets/controls",
            "_view_module_version": "1.5.0",
            "_view_name": "HTMLView",
            "description": "",
            "description_tooltip": null,
            "layout": "IPY_MODEL_6523a4b21a4746eab8d84dc1c30f38c1",
            "placeholder": "​",
            "style": "IPY_MODEL_52daf810c26b44aca31c843df2b25831",
            "value": " 436M/436M [00:02&lt;00:00, 242MB/s]"
          }
        },
        "cd7eec8550014656bd4744be741ce2f8": {
          "model_module": "@jupyter-widgets/controls",
          "model_module_version": "1.5.0",
          "model_name": "HTMLModel",
          "state": {
            "_dom_classes": [],
            "_model_module": "@jupyter-widgets/controls",
            "_model_module_version": "1.5.0",
            "_model_name": "HTMLModel",
            "_view_count": null,
            "_view_module": "@jupyter-widgets/controls",
            "_view_module_version": "1.5.0",
            "_view_name": "HTMLView",
            "description": "",
            "description_tooltip": null,
            "layout": "IPY_MODEL_91e3a19157d24a0388bc85da4875d02a",
            "placeholder": "​",
            "style": "IPY_MODEL_1e4d0a6ea3194c11a789cee99bb2a20d",
            "value": "model.safetensors: 100%"
          }
        },
        "d182a9c4ca4f4ea5ba02e8e0297bd2cf": {
          "model_module": "@jupyter-widgets/base",
          "model_module_version": "1.2.0",
          "model_name": "LayoutModel",
          "state": {
            "_model_module": "@jupyter-widgets/base",
            "_model_module_version": "1.2.0",
            "_model_name": "LayoutModel",
            "_view_count": null,
            "_view_module": "@jupyter-widgets/base",
            "_view_module_version": "1.2.0",
            "_view_name": "LayoutView",
            "align_content": null,
            "align_items": null,
            "align_self": null,
            "border": null,
            "bottom": null,
            "display": null,
            "flex": null,
            "flex_flow": null,
            "grid_area": null,
            "grid_auto_columns": null,
            "grid_auto_flow": null,
            "grid_auto_rows": null,
            "grid_column": null,
            "grid_gap": null,
            "grid_row": null,
            "grid_template_areas": null,
            "grid_template_columns": null,
            "grid_template_rows": null,
            "height": null,
            "justify_content": null,
            "justify_items": null,
            "left": null,
            "margin": null,
            "max_height": null,
            "max_width": null,
            "min_height": null,
            "min_width": null,
            "object_fit": null,
            "object_position": null,
            "order": null,
            "overflow": null,
            "overflow_x": null,
            "overflow_y": null,
            "padding": null,
            "right": null,
            "top": null,
            "visibility": null,
            "width": null
          }
        },
        "f355bd021b5e4715a5d547568b5ef4f4": {
          "model_module": "@jupyter-widgets/controls",
          "model_module_version": "1.5.0",
          "model_name": "HTMLModel",
          "state": {
            "_dom_classes": [],
            "_model_module": "@jupyter-widgets/controls",
            "_model_module_version": "1.5.0",
            "_model_name": "HTMLModel",
            "_view_count": null,
            "_view_module": "@jupyter-widgets/controls",
            "_view_module_version": "1.5.0",
            "_view_name": "HTMLView",
            "description": "",
            "description_tooltip": null,
            "layout": "IPY_MODEL_7933cf5f2f38427ea26ea15f7a8dd888",
            "placeholder": "​",
            "style": "IPY_MODEL_959a8c6682334376a64f0019f8a0bbc2",
            "value": " 436M/436M [00:01&lt;00:00, 233MB/s]"
          }
        },
        "fce413e4db5a447ab2d8a8b753c68c83": {
          "model_module": "@jupyter-widgets/base",
          "model_module_version": "1.2.0",
          "model_name": "LayoutModel",
          "state": {
            "_model_module": "@jupyter-widgets/base",
            "_model_module_version": "1.2.0",
            "_model_name": "LayoutModel",
            "_view_count": null,
            "_view_module": "@jupyter-widgets/base",
            "_view_module_version": "1.2.0",
            "_view_name": "LayoutView",
            "align_content": null,
            "align_items": null,
            "align_self": null,
            "border": null,
            "bottom": null,
            "display": null,
            "flex": null,
            "flex_flow": null,
            "grid_area": null,
            "grid_auto_columns": null,
            "grid_auto_flow": null,
            "grid_auto_rows": null,
            "grid_column": null,
            "grid_gap": null,
            "grid_row": null,
            "grid_template_areas": null,
            "grid_template_columns": null,
            "grid_template_rows": null,
            "height": null,
            "justify_content": null,
            "justify_items": null,
            "left": null,
            "margin": null,
            "max_height": null,
            "max_width": null,
            "min_height": null,
            "min_width": null,
            "object_fit": null,
            "object_position": null,
            "order": null,
            "overflow": null,
            "overflow_x": null,
            "overflow_y": null,
            "padding": null,
            "right": null,
            "top": null,
            "visibility": null,
            "width": null
          }
        }
      }
    }
  },
  "nbformat": 4,
  "nbformat_minor": 0
}
