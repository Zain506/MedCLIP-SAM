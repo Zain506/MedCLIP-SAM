{
  "cells": [
    {
      "cell_type": "markdown",
      "metadata": {
        "id": "view-in-github",
        "colab_type": "text"
      },
      "source": [
        "<a href=\"https://colab.research.google.com/github/Zain506/Similarity/blob/main/notebooks/MedCLIP.ipynb\" target=\"_parent\"><img src=\"https://colab.research.google.com/assets/colab-badge.svg\" alt=\"Open In Colab\"/></a>"
      ]
    },
    {
      "cell_type": "markdown",
      "metadata": {
        "id": "a28_IQaUIlBV"
      },
      "source": [
        "# Interpret and deploy MedCLIP pipeline"
      ]
    },
    {
      "cell_type": "code",
      "execution_count": 12,
      "metadata": {
        "collapsed": true,
        "id": "QU-_cTRoLv_2"
      },
      "outputs": [],
      "source": [
        "import os\n",
        "from dotenv import load_dotenv\n",
        "try:\n",
        "    from google.colab import userdata\n",
        "    tok = userdata.get('HF_TOKEN')\n",
        "except:\n",
        "    load_dotenv()\n",
        "    tok = os.getenv(\"HF_TOKEN\")\n",
        "os.environ[\"HF_TOKEN\"] = tok"
      ]
    },
    {
      "cell_type": "code",
      "execution_count": 13,
      "metadata": {
        "id": "kHGRfe2QIn3E"
      },
      "outputs": [],
      "source": [
        "from transformers import AutoTokenizer, AutoModel\n",
        "import torch\n",
        "tokeniser = AutoTokenizer.from_pretrained(\"emilyalsentzer/Bio_ClinicalBERT\") # Generate input tokens\n",
        "texts = [\n",
        "    \"Patient has a cold\",\n",
        "    \"Patient has a sore throat and no other symptoms\",\n",
        "    \"Patient is vomiting blood and has a collapsed lung\"\n",
        "    ]"
      ]
    },
    {
      "cell_type": "code",
      "execution_count": 14,
      "metadata": {
        "colab": {
          "base_uri": "https://localhost:8080/"
        },
        "id": "krn9tOo4JaXO",
        "outputId": "8dc24af8-2060-45db-f16a-f55fcbc2f7c8"
      },
      "outputs": [
        {
          "output_type": "stream",
          "name": "stderr",
          "text": [
            "Asking to truncate to max_length but no maximum length is provided and the model has no predefined maximum length. Default to no truncation.\n"
          ]
        },
        {
          "output_type": "stream",
          "name": "stdout",
          "text": [
            "{'input_ids': tensor([[  101,  5351,  1144,   170,  2504,   102,     0,     0,     0,     0,\n",
            "             0,     0],\n",
            "        [  101,  5351,  1144,   170, 15939,  2922,  1105,  1185,  1168,  8006,\n",
            "           102,     0],\n",
            "        [  101,  5351,  1110, 26979,  1158,  1892,  1105,  1144,   170,  7322,\n",
            "         13093,   102]]), 'token_type_ids': tensor([[0, 0, 0, 0, 0, 0, 0, 0, 0, 0, 0, 0],\n",
            "        [0, 0, 0, 0, 0, 0, 0, 0, 0, 0, 0, 0],\n",
            "        [0, 0, 0, 0, 0, 0, 0, 0, 0, 0, 0, 0]]), 'attention_mask': tensor([[1, 1, 1, 1, 1, 1, 0, 0, 0, 0, 0, 0],\n",
            "        [1, 1, 1, 1, 1, 1, 1, 1, 1, 1, 1, 0],\n",
            "        [1, 1, 1, 1, 1, 1, 1, 1, 1, 1, 1, 1]])}\n"
          ]
        }
      ],
      "source": [
        "inputs = tokeniser(texts, padding=True, truncation=True, return_tensors=\"pt\") # Tokens\n",
        "print(inputs)"
      ]
    },
    {
      "cell_type": "code",
      "execution_count": 15,
      "metadata": {
        "colab": {
          "base_uri": "https://localhost:8080/"
        },
        "id": "LbSrWzYNJe54",
        "outputId": "eae533db-abf8-42ce-bfcc-8a9e015c9fe4"
      },
      "outputs": [
        {
          "output_type": "stream",
          "name": "stdout",
          "text": [
            "torch.Size([3, 12, 768])\n"
          ]
        }
      ],
      "source": [
        "model = AutoModel.from_pretrained(\"emilyalsentzer/Bio_ClinicalBERT\") # Load Neural Network\n",
        "with torch.no_grad(): # Apply forward pass without calculating gradients to speed up computation\n",
        "    outputs = model(**inputs) # Apply Attention Mechanism to each token to generate embeddings\n",
        "\n",
        "hidden_states = outputs.last_hidden_state # \"Hidden_states\" is the attention-mechanism output\n",
        "print(hidden_states.shape)"
      ]
    },
    {
      "cell_type": "code",
      "execution_count": 16,
      "metadata": {
        "colab": {
          "base_uri": "https://localhost:8080/"
        },
        "id": "Y_kswWAOJjbq",
        "outputId": "a8b62537-082d-43db-bf70-e35940bbf3c9"
      },
      "outputs": [
        {
          "output_type": "stream",
          "name": "stdout",
          "text": [
            "tensor([[ 0.5553,  0.0857, -0.4640,  ...,  0.0184,  0.0646, -0.1259],\n",
            "        [ 0.1498,  0.1194, -0.3643,  ...,  0.2049,  0.1319, -0.3943],\n",
            "        [ 0.1813,  0.0279, -0.3916,  ...,  0.2560,  0.1692, -0.3637]])\n"
          ]
        }
      ],
      "source": [
        "# Apply Pooling with a mask (similar to filtering Pandas DataFrame)\n",
        "mask = inputs[\"attention_mask\"].unsqueeze(-1)\n",
        "pooled = (hidden_states * mask).sum(dim=1) / mask.sum(dim=1)\n",
        "print(pooled)"
      ]
    },
    {
      "cell_type": "markdown",
      "metadata": {
        "id": "w8027HqDJkrS"
      },
      "source": [
        "# Full Text Encoder class loading"
      ]
    },
    {
      "cell_type": "code",
      "execution_count": 17,
      "metadata": {
        "id": "aJ-RJgDiJnFg"
      },
      "outputs": [],
      "source": [
        "from transformers import AutoTokenizer, AutoModel\n",
        "import torch\n",
        "\n",
        "class Model:\n",
        "    \"\"\"Import model with AutoTokenizer and Automodel. Defaults to BioClinicalBERT\"\"\"\n",
        "    def __init__(self, link=\"emilyalsentzer/Bio_ClinicalBERT\"):\n",
        "        self.tokenizer = AutoTokenizer.from_pretrained(link)\n",
        "        self.model = AutoModel.from_pretrained(link) # Load Neural Network\n",
        "    def embeddings(self, texts):\n",
        "        inputs = self.tokenizer(texts, padding=True, truncation=True, return_tensors=\"pt\") # Tokens\n",
        "\n",
        "        with torch.no_grad(): # Apply forward pass without calculating gradients to speed up computation\n",
        "            outputs = self.model(**inputs) # Apply Attention Mechanism to each token to generate embeddings\n",
        "\n",
        "        hidden_states = outputs.last_hidden_state # \"Hidden_states\" is the attention-mechanism output\n",
        "        # Apply Pooling with a mask (similar to filtering Pandas DataFrame)\n",
        "        mask = inputs[\"attention_mask\"].unsqueeze(-1)\n",
        "        pooled = (hidden_states * mask).sum(dim=1) / mask.sum(dim=1)\n",
        "        return pooled"
      ]
    },
    {
      "cell_type": "code",
      "execution_count": 18,
      "metadata": {
        "colab": {
          "base_uri": "https://localhost:8080/"
        },
        "id": "pNRANOF6Jsh7",
        "outputId": "e72aaa33-7493-46de-bdef-72dd7e0b3569"
      },
      "outputs": [
        {
          "output_type": "stream",
          "name": "stderr",
          "text": [
            "Asking to truncate to max_length but no maximum length is provided and the model has no predefined maximum length. Default to no truncation.\n"
          ]
        },
        {
          "output_type": "stream",
          "name": "stdout",
          "text": [
            "tensor([[ 0.5553,  0.0857, -0.4640,  ...,  0.0184,  0.0646, -0.1259],\n",
            "        [ 0.2254,  0.1918, -0.5101,  ...,  0.2051,  0.2852, -0.2781],\n",
            "        [ 0.2372,  0.1547, -0.4852,  ...,  0.2074,  0.1997, -0.2425],\n",
            "        [ 0.5553,  0.0857, -0.4640,  ...,  0.0184,  0.0646, -0.1259]])\n"
          ]
        }
      ],
      "source": [
        "tmp = Model().embeddings([\"Patient has a cold\", \"Patient is vomiting blood\", \"Patient has a cold and is vomiting blood\", \"Patient has a cold\"])\n",
        "print(tmp)"
      ]
    },
    {
      "cell_type": "code",
      "source": [
        "import torch\n",
        "\n",
        "if torch.cuda.is_available():\n",
        "  tmp.to(\"cuda\")\n",
        "  normed = torch.nn.functional.normalize(tmp, p=2, dim=1)\n",
        "  result = normed @ normed.t()\n",
        "  print(result)\n",
        "else:\n",
        "  print(\"GPU not available\")"
      ],
      "metadata": {
        "colab": {
          "base_uri": "https://localhost:8080/"
        },
        "id": "LxS6Wgll83OQ",
        "outputId": "ceefb985-aca6-408f-cba2-23a1d05a6583"
      },
      "execution_count": 19,
      "outputs": [
        {
          "output_type": "stream",
          "name": "stdout",
          "text": [
            "tensor([[1.0000, 0.8570, 0.9171, 1.0000],\n",
            "        [0.8570, 1.0000, 0.9516, 0.8570],\n",
            "        [0.9171, 0.9516, 1.0000, 0.9171],\n",
            "        [1.0000, 0.8570, 0.9171, 1.0000]])\n"
          ]
        }
      ]
    }
  ],
  "metadata": {
    "accelerator": "GPU",
    "colab": {
      "gpuType": "T4",
      "provenance": [],
      "include_colab_link": true
    },
    "kernelspec": {
      "display_name": "Python 3",
      "name": "python3"
    },
    "language_info": {
      "name": "python"
    }
  },
  "nbformat": 4,
  "nbformat_minor": 0
}