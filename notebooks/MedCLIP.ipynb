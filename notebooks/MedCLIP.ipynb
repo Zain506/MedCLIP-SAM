{
  "cells": [
    {
      "cell_type": "markdown",
      "metadata": {
        "id": "view-in-github",
        "colab_type": "text"
      },
      "source": [
        "<a href=\"https://colab.research.google.com/github/Zain506/Similarity/blob/main/notebooks/MedCLIP.ipynb\" target=\"_parent\"><img src=\"https://colab.research.google.com/assets/colab-badge.svg\" alt=\"Open In Colab\"/></a>"
      ]
    },
    {
      "cell_type": "markdown",
      "metadata": {
        "id": "a28_IQaUIlBV"
      },
      "source": [
        "## Load API keys\n",
        "\n"
      ]
    },
    {
      "cell_type": "code",
      "execution_count": 38,
      "metadata": {
        "collapsed": true,
        "id": "QU-_cTRoLv_2"
      },
      "outputs": [],
      "source": [
        "import os\n",
        "from dotenv import load_dotenv\n",
        "try:\n",
        "    from google.colab import userdata\n",
        "    tok = userdata.get('HF_TOKEN')\n",
        "except:\n",
        "    load_dotenv()\n",
        "    tok = os.getenv(\"HF_TOKEN\")\n",
        "os.environ[\"HF_TOKEN\"] = tok"
      ]
    },
    {
      "cell_type": "markdown",
      "metadata": {
        "id": "w8027HqDJkrS"
      },
      "source": [
        "## Text Encoder class"
      ]
    },
    {
      "cell_type": "code",
      "execution_count": 39,
      "metadata": {
        "id": "aJ-RJgDiJnFg"
      },
      "outputs": [],
      "source": [
        "from transformers import AutoTokenizer, AutoModel\n",
        "import torch\n",
        "\n",
        "class textEncoder:\n",
        "    \"\"\"Import model with AutoTokenizer and Automodel. Defaults to BioClinicalBERT\"\"\"\n",
        "    def __init__(self, link=\"emilyalsentzer/Bio_ClinicalBERT\"):\n",
        "        self.tokenizer = AutoTokenizer.from_pretrained(link)\n",
        "        self.model = AutoModel.from_pretrained(link) # Load Neural Network\n",
        "\n",
        "    def encode(self, texts):\n",
        "        inputs = self.tokenizer(texts, padding=True, truncation=True, return_tensors=\"pt\") # Tokens\n",
        "\n",
        "        with torch.no_grad(): # Not training: Apply forward pass without calculating gradients for speed\n",
        "            outputs = self.model(**inputs) # Apply Attention Mechanism to each token to generate embeddings\n",
        "\n",
        "        hidden_states = outputs.last_hidden_state # \"Hidden_states\" is the attention-mechanism output\n",
        "        # Apply Pooling with a mask (similar to filtering Pandas DataFrame)\n",
        "        mask = inputs[\"attention_mask\"].unsqueeze(-1)\n",
        "        pooled = (hidden_states * mask).sum(dim=1) / mask.sum(dim=1)\n",
        "        return pooled"
      ]
    },
    {
      "cell_type": "markdown",
      "source": [
        "## Image Encoder class"
      ],
      "metadata": {
        "id": "qBpGhJgiT6oV"
      }
    },
    {
      "cell_type": "code",
      "source": [
        "from transformers import AutoImageProcessor, AutoModelForImageClassification\n",
        "from PIL import Image\n",
        "import torch\n",
        "\n",
        "class imageEncoder:\n",
        "  \"\"\"Image Encoder\"\"\"\n",
        "  def __init__(self, model=\"microsoft/swinv2-tiny-patch4-window16-256\"):\n",
        "    device = \"cuda\" if torch.cuda.is_available() else \"cpu\"\n",
        "    self.processor = AutoImageProcessor.from_pretrained(model)\n",
        "    self.model = AutoModelForImageClassification.from_pretrained(model).to(device)\n",
        "    self.device = device\n",
        "    self.model.eval()\n",
        "\n",
        "  def encode(self, img: Image.Image):\n",
        "    image = img.convert(\"RGB\") # Convert from greyscale for dataset \"X-iZhang/CheXpert-plus-RRG\", \"findings_section\"\n",
        "    inputs = self.processor(images=image, return_tensors=\"pt\")\n",
        "\n",
        "    inputs = {k: v.to(self.device) for k,v in inputs.items()}\n",
        "    with torch.no_grad():\n",
        "      outputs = self.model(**inputs)\n",
        "    logits = outputs.logits\n",
        "    return logits\n"
      ],
      "metadata": {
        "id": "gNY_it-jqmuv"
      },
      "execution_count": 40,
      "outputs": []
    },
    {
      "cell_type": "markdown",
      "source": [
        "## Batch process multiple datapoints with GPU"
      ],
      "metadata": {
        "id": "2oFMzwQI0hp9"
      }
    },
    {
      "cell_type": "code",
      "source": [
        "from transformers import AutoImageProcessor, AutoModelForImageClassification\n",
        "import torch\n",
        "from typing import Dict, List\n",
        "from datasets import load_dataset\n",
        "\n",
        "device = \"cuda\" if torch.cuda.is_available() else \"cpu\"\n",
        "model = \"microsoft/swinv2-tiny-patch4-window16-256\"\n",
        "\n",
        "\n",
        "ds = load_dataset(\"X-iZhang/CheXpert-plus-RRG\", \"findings_section\") # Load dataset\n",
        "\n",
        "images = [ds[\"valid\"][i][\"main_image\"].convert(\"RGB\") for i in range(8)] # Create batch from data\n",
        "\n",
        "processor = AutoImageProcessor.from_pretrained(model) # Initialise encoder\n",
        "\n",
        "inputs: Dict[str, torch.Tensor] = processor(images=images, return_tensors=\"pt\") # Encode batch -> tensor on the CPU\n",
        "inputs = {k: v.to(device) for k, v in inputs.items()} # Move tensor to GPU\n",
        "\n",
        "\n",
        "with torch.no_grad(): # Without calculating gradients (no need to + improves speed)\n",
        "  model = AutoModelForImageClassification.from_pretrained(model).to(device) # Initialise model (Neural Network) on GPU\n",
        "  outputs: torch.Tensor = model(**inputs).logits # GPU model supplied with GPU tensor"
      ],
      "metadata": {
        "id": "9IiB5sqs0mbP"
      },
      "execution_count": null,
      "outputs": []
    }
  ],
  "metadata": {
    "accelerator": "GPU",
    "colab": {
      "gpuType": "T4",
      "provenance": [],
      "include_colab_link": true
    },
    "kernelspec": {
      "display_name": "Python 3",
      "name": "python3"
    },
    "language_info": {
      "name": "python"
    }
  },
  "nbformat": 4,
  "nbformat_minor": 0
}