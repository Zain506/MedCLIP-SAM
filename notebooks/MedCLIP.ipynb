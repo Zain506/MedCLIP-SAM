{
  "cells": [
    {
      "cell_type": "markdown",
      "metadata": {
        "colab_type": "text",
        "id": "view-in-github"
      },
      "source": [
        "<a href=\"https://colab.research.google.com/github/Zain506/Similarity/blob/main/notebooks/MedCLIP.ipynb\" target=\"_parent\"><img src=\"https://colab.research.google.com/assets/colab-badge.svg\" alt=\"Open In Colab\"/></a>"
      ]
    },
    {
      "cell_type": "markdown",
      "metadata": {
        "id": "a28_IQaUIlBV"
      },
      "source": [
        "# Interpret and deploy MedCLIP pipeline\n",
        "\n",
        "## Method\n",
        "1. Input text(s) and generate tokens for each one (before applying Attention Mechanism) -- tokenizer\n",
        "2. Apply Attention Mechanism via Neural Network -- model\n",
        "3. Pool outputs to generate 1 single embedding\n",
        "\n",
        "\n",
        "## How to proceed\n",
        "- We can use SentenceTransformer to simply run SentenceTransformer(\"...\").encode(text) without dealing with pooling.\n",
        "- Using Transformers requires more manual work\n",
        "- SentenceTransformer is not available for this model\n",
        "- Transformers requires an AutoTokenizer to preprocess the text into IDs, with padding, truncation parameters\n",
        "- Then we use AutoModel which is the actual Neural Network to create an output\n",
        "- This outputs an embedding per token, and we take a representative pool for an entire sentence embedding"
      ]
    },
    {
      "cell_type": "code",
      "execution_count": null,
      "metadata": {
        "collapsed": true,
        "id": "QU-_cTRoLv_2"
      },
      "outputs": [],
      "source": [
        "import os\n",
        "import tqdm\n",
        "from dotenv import load_dotenv\n",
        "os.environ[\"TQDM_NOTEBOOK\"] = \"0\"\n",
        "os.environ[\"TRANSFORMERS_NO_TQDM\"] = \"1\"\n",
        "try:\n",
        "    from google.colab import userdata\n",
        "    tok = userdata.get('HFTOKEN')\n",
        "except:\n",
        "    load_dotenv()\n",
        "    tok = os.getenv(\"HFTOKEN\")\n",
        "os.environ[\"HFTOKEN\"] = tok"
      ]
    },
    {
      "cell_type": "code",
      "execution_count": 10,
      "metadata": {
        "id": "kHGRfe2QIn3E"
      },
      "outputs": [],
      "source": [
        "from transformers import AutoTokenizer, AutoModel\n",
        "import torch\n",
        "tokeniser = AutoTokenizer.from_pretrained(\"emilyalsentzer/Bio_ClinicalBERT\") # Generate input tokens\n",
        "texts = [\n",
        "    \"Patient has a cold\",\n",
        "    \"Patient has a sore throat and no other symptoms\",\n",
        "    \"Patient is vomiting blood and has a collapsed lung\"\n",
        "    ]"
      ]
    },
    {
      "cell_type": "code",
      "execution_count": 11,
      "metadata": {
        "colab": {
          "base_uri": "https://localhost:8080/"
        },
        "id": "krn9tOo4JaXO",
        "outputId": "631f30b1-d0c6-45fb-de30-192044301dc0"
      },
      "outputs": [
        {
          "name": "stderr",
          "output_type": "stream",
          "text": [
            "Asking to truncate to max_length but no maximum length is provided and the model has no predefined maximum length. Default to no truncation.\n"
          ]
        },
        {
          "name": "stdout",
          "output_type": "stream",
          "text": [
            "{'input_ids': tensor([[  101,  5351,  1144,   170,  2504,   102,     0,     0,     0,     0,\n",
            "             0,     0],\n",
            "        [  101,  5351,  1144,   170, 15939,  2922,  1105,  1185,  1168,  8006,\n",
            "           102,     0],\n",
            "        [  101,  5351,  1110, 26979,  1158,  1892,  1105,  1144,   170,  7322,\n",
            "         13093,   102]]), 'token_type_ids': tensor([[0, 0, 0, 0, 0, 0, 0, 0, 0, 0, 0, 0],\n",
            "        [0, 0, 0, 0, 0, 0, 0, 0, 0, 0, 0, 0],\n",
            "        [0, 0, 0, 0, 0, 0, 0, 0, 0, 0, 0, 0]]), 'attention_mask': tensor([[1, 1, 1, 1, 1, 1, 0, 0, 0, 0, 0, 0],\n",
            "        [1, 1, 1, 1, 1, 1, 1, 1, 1, 1, 1, 0],\n",
            "        [1, 1, 1, 1, 1, 1, 1, 1, 1, 1, 1, 1]])}\n"
          ]
        }
      ],
      "source": [
        "inputs = tokeniser(texts, padding=True, truncation=True, return_tensors=\"pt\") # Tokens\n",
        "print(inputs)"
      ]
    },
    {
      "cell_type": "code",
      "execution_count": 12,
      "metadata": {
        "colab": {
          "base_uri": "https://localhost:8080/"
        },
        "id": "LbSrWzYNJe54",
        "outputId": "99fad868-c260-4787-918c-7e1081426a14"
      },
      "outputs": [
        {
          "name": "stdout",
          "output_type": "stream",
          "text": [
            "torch.Size([3, 12, 768])\n"
          ]
        }
      ],
      "source": [
        "model = AutoModel.from_pretrained(\"emilyalsentzer/Bio_ClinicalBERT\") # Load Neural Network\n",
        "with torch.no_grad(): # Apply forward pass without calculating gradients to speed up computation\n",
        "    outputs = model(**inputs) # Apply Attention Mechanism to each token to generate embeddings\n",
        "\n",
        "hidden_states = outputs.last_hidden_state # \"Hidden_states\" is the attention-mechanism output\n",
        "print(hidden_states.shape)"
      ]
    },
    {
      "cell_type": "code",
      "execution_count": 13,
      "metadata": {
        "colab": {
          "base_uri": "https://localhost:8080/"
        },
        "id": "Y_kswWAOJjbq",
        "outputId": "edba99fc-5b7c-41de-e51c-1f38f386fd64"
      },
      "outputs": [
        {
          "name": "stdout",
          "output_type": "stream",
          "text": [
            "tensor([[ 0.5553,  0.0857, -0.4640,  ...,  0.0184,  0.0646, -0.1259],\n",
            "        [ 0.1498,  0.1194, -0.3643,  ...,  0.2049,  0.1319, -0.3943],\n",
            "        [ 0.1813,  0.0279, -0.3916,  ...,  0.2560,  0.1692, -0.3637]])\n"
          ]
        }
      ],
      "source": [
        "# Apply Pooling with a mask (similar to filtering Pandas DataFrame)\n",
        "mask = inputs[\"attention_mask\"].unsqueeze(-1)\n",
        "pooled = (hidden_states * mask).sum(dim=1) / mask.sum(dim=1)\n",
        "print(pooled)"
      ]
    },
    {
      "cell_type": "markdown",
      "metadata": {
        "id": "w8027HqDJkrS"
      },
      "source": [
        "# Full Text Encoder class loading"
      ]
    },
    {
      "cell_type": "code",
      "execution_count": 14,
      "metadata": {
        "id": "aJ-RJgDiJnFg"
      },
      "outputs": [],
      "source": [
        "from transformers import AutoTokenizer, AutoModel\n",
        "import torch\n",
        "\n",
        "class Model:\n",
        "    \"\"\"Import model with AutoTokenizer and Automodel. Defaults to BioClinicalBERT\"\"\"\n",
        "    def __init__(self, link=\"emilyalsentzer/Bio_ClinicalBERT\"):\n",
        "        self.tokenizer = AutoTokenizer.from_pretrained(link)\n",
        "        self.model = AutoModel.from_pretrained(link) # Load Neural Network\n",
        "    def embeddings(self, texts):\n",
        "        inputs = self.tokenizer(texts, padding=True, truncation=True, return_tensors=\"pt\") # Tokens\n",
        "\n",
        "        with torch.no_grad(): # Apply forward pass without calculating gradients to speed up computation\n",
        "            outputs = self.model(**inputs) # Apply Attention Mechanism to each token to generate embeddings\n",
        "\n",
        "        hidden_states = outputs.last_hidden_state # \"Hidden_states\" is the attention-mechanism output\n",
        "        # Apply Pooling with a mask (similar to filtering Pandas DataFrame)\n",
        "        mask = inputs[\"attention_mask\"].unsqueeze(-1)\n",
        "        pooled = (hidden_states * mask).sum(dim=1) / mask.sum(dim=1)\n",
        "        return pooled"
      ]
    },
    {
      "cell_type": "code",
      "execution_count": 15,
      "metadata": {
        "colab": {
          "base_uri": "https://localhost:8080/"
        },
        "id": "pNRANOF6Jsh7",
        "outputId": "93fe8315-6462-4577-bb6d-457344e0c95a"
      },
      "outputs": [
        {
          "name": "stderr",
          "output_type": "stream",
          "text": [
            "Asking to truncate to max_length but no maximum length is provided and the model has no predefined maximum length. Default to no truncation.\n"
          ]
        },
        {
          "name": "stdout",
          "output_type": "stream",
          "text": [
            "tensor([[ 0.5553,  0.0857, -0.4640,  ...,  0.0184,  0.0646, -0.1259],\n",
            "        [ 0.2254,  0.1918, -0.5101,  ...,  0.2051,  0.2852, -0.2781]])\n"
          ]
        }
      ],
      "source": [
        "tmp = Model().embeddings([\"Patient has a cold\", \"Patient is vomiting blood\"])\n",
        "print(tmp)"
      ]
    }
  ],
  "metadata": {
    "accelerator": "GPU",
    "colab": {
      "authorship_tag": "ABX9TyPnp1WHljn1fXSMnioXLyTy",
      "gpuType": "T4",
      "include_colab_link": true,
      "provenance": []
    },
    "kernelspec": {
      "display_name": "Python 3",
      "name": "python3"
    },
    "language_info": {
      "name": "python"
    }
  },
  "nbformat": 4,
  "nbformat_minor": 0
}
