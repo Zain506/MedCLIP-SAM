{
 "cells": [
  {
   "cell_type": "markdown",
   "id": "7436d84f",
   "metadata": {},
   "source": [
    "# Interpret and deploy MedCLIP pipeline"
   ]
  },
  {
   "cell_type": "markdown",
   "id": "fde23e59",
   "metadata": {},
   "source": [
    "## Method\n",
    "1. Input text(s) and generate tokens for each one (before applying Attention Mechanism) -- tokenizer\n",
    "2. Apply Attention Mechanism via Neural Network -- model\n",
    "3. Pool outputs to generate 1 single embedding\n",
    "\n",
    "\n",
    "## How to proceed\n",
    "- We can use SentenceTransformer to simply run SentenceTransformer(\"...\").encode(text) without dealing with pooling.\n",
    "- Using Transformers requires more manual work\n",
    "- SentenceTransformer is not available for this model\n",
    "- Transformers requires an AutoTokenizer to preprocess the text into IDs, with padding, truncation parameters\n",
    "- Then we use AutoModel which is the actual Neural Network to create an output\n",
    "- This outputs an embedding per token, and we take a representative pool for an entire sentence embedding"
   ]
  },
  {
   "cell_type": "code",
   "execution_count": 4,
   "id": "f971ab4b",
   "metadata": {},
   "outputs": [],
   "source": [
    "from transformers import AutoTokenizer, AutoModel\n",
    "import torch\n",
    "tokeniser = AutoTokenizer.from_pretrained(\"emilyalsentzer/Bio_ClinicalBERT\") # Generate input tokens\n",
    "texts = [\n",
    "    \"Patient has a cold\", \n",
    "    \"Patient has a sore throat and no other symptoms\", \n",
    "    \"Patient is vomiting blood and has a collapsed lung\"\n",
    "    ]"
   ]
  },
  {
   "cell_type": "code",
   "execution_count": 5,
   "id": "42e51772",
   "metadata": {},
   "outputs": [
    {
     "name": "stderr",
     "output_type": "stream",
     "text": [
      "Asking to truncate to max_length but no maximum length is provided and the model has no predefined maximum length. Default to no truncation.\n"
     ]
    },
    {
     "name": "stdout",
     "output_type": "stream",
     "text": [
      "{'input_ids': tensor([[  101,  5351,  1144,   170,  2504,   102,     0,     0,     0,     0,\n",
      "             0,     0],\n",
      "        [  101,  5351,  1144,   170, 15939,  2922,  1105,  1185,  1168,  8006,\n",
      "           102,     0],\n",
      "        [  101,  5351,  1110, 26979,  1158,  1892,  1105,  1144,   170,  7322,\n",
      "         13093,   102]]), 'token_type_ids': tensor([[0, 0, 0, 0, 0, 0, 0, 0, 0, 0, 0, 0],\n",
      "        [0, 0, 0, 0, 0, 0, 0, 0, 0, 0, 0, 0],\n",
      "        [0, 0, 0, 0, 0, 0, 0, 0, 0, 0, 0, 0]]), 'attention_mask': tensor([[1, 1, 1, 1, 1, 1, 0, 0, 0, 0, 0, 0],\n",
      "        [1, 1, 1, 1, 1, 1, 1, 1, 1, 1, 1, 0],\n",
      "        [1, 1, 1, 1, 1, 1, 1, 1, 1, 1, 1, 1]])}\n"
     ]
    }
   ],
   "source": [
    "inputs = tokeniser(texts, padding=True, truncation=True, return_tensors=\"pt\") # Tokens\n",
    "print(inputs)"
   ]
  },
  {
   "cell_type": "code",
   "execution_count": null,
   "id": "de525ee3",
   "metadata": {},
   "outputs": [
    {
     "name": "stdout",
     "output_type": "stream",
     "text": [
      "torch.Size([3, 12, 768])\n"
     ]
    }
   ],
   "source": [
    "model = AutoModel.from_pretrained(\"emilyalsentzer/Bio_ClinicalBERT\") # Load Neural Network\n",
    "with torch.no_grad(): # Apply forward pass without calculating gradients to speed up computation\n",
    "    outputs = model(**inputs) # Apply Attention Mechanism to each token to generate embeddings\n",
    "\n",
    "hidden_states = outputs.last_hidden_state # \"Hidden_states\" is the attention-mechanism output\n",
    "print(hidden_states.shape)"
   ]
  },
  {
   "cell_type": "code",
   "execution_count": 8,
   "id": "aff79f48",
   "metadata": {},
   "outputs": [
    {
     "name": "stdout",
     "output_type": "stream",
     "text": [
      "tensor([[ 0.5553,  0.0857, -0.4640,  ...,  0.0184,  0.0646, -0.1259],\n",
      "        [ 0.1498,  0.1194, -0.3643,  ...,  0.2049,  0.1319, -0.3943],\n",
      "        [ 0.1813,  0.0279, -0.3916,  ...,  0.2560,  0.1692, -0.3637]])\n"
     ]
    }
   ],
   "source": [
    "# Apply Pooling with a mask (similar to filtering Pandas DataFrame)\n",
    "mask = inputs[\"attention_mask\"].unsqueeze(-1)\n",
    "pooled = (hidden_states * mask).sum(dim=1) / mask.sum(dim=1)\n",
    "print(pooled)"
   ]
  },
  {
   "cell_type": "markdown",
   "id": "940161db",
   "metadata": {},
   "source": [
    "# Full Class"
   ]
  },
  {
   "cell_type": "code",
   "execution_count": 13,
   "id": "fd32d3c3",
   "metadata": {},
   "outputs": [],
   "source": [
    "from transformers import AutoTokenizer, AutoModel\n",
    "import torch\n",
    "\n",
    "class Model:\n",
    "    \"\"\"Import model with AutoTokenizer and Automodel. Defaults to BioClinicalBERT\"\"\"\n",
    "    def __init__(self, link=\"emilyalsentzer/Bio_ClinicalBERT\"):\n",
    "        self.tokenizer = AutoTokenizer.from_pretrained(link)\n",
    "        self.model = AutoModel.from_pretrained(link) # Load Neural Network\n",
    "    def embeddings(self, texts):\n",
    "        inputs = self.tokenizer(texts, padding=True, truncation=True, return_tensors=\"pt\") # Tokens\n",
    "        \n",
    "        with torch.no_grad(): # Apply forward pass without calculating gradients to speed up computation\n",
    "            outputs = self.model(**inputs) # Apply Attention Mechanism to each token to generate embeddings\n",
    "\n",
    "        hidden_states = outputs.last_hidden_state # \"Hidden_states\" is the attention-mechanism output\n",
    "        # Apply Pooling with a mask (similar to filtering Pandas DataFrame)\n",
    "        mask = inputs[\"attention_mask\"].unsqueeze(-1)\n",
    "        pooled = (hidden_states * mask).sum(dim=1) / mask.sum(dim=1)\n",
    "        return pooled"
   ]
  },
  {
   "cell_type": "code",
   "execution_count": 14,
   "id": "4e7c643e",
   "metadata": {},
   "outputs": [
    {
     "name": "stderr",
     "output_type": "stream",
     "text": [
      "Asking to truncate to max_length but no maximum length is provided and the model has no predefined maximum length. Default to no truncation.\n"
     ]
    },
    {
     "name": "stdout",
     "output_type": "stream",
     "text": [
      "tensor([[ 0.5553,  0.0857, -0.4640,  ...,  0.0184,  0.0646, -0.1259],\n",
      "        [ 0.2254,  0.1918, -0.5101,  ...,  0.2051,  0.2852, -0.2781]])\n"
     ]
    }
   ],
   "source": [
    "tmp = Model().embeddings([\"Patient has a cold\", \"Patient is vomiting blood\"])\n",
    "print(tmp)"
   ]
  }
 ],
 "metadata": {
  "kernelspec": {
   "display_name": "Python 3",
   "language": "python",
   "name": "python3"
  },
  "language_info": {
   "codemirror_mode": {
    "name": "ipython",
    "version": 3
   },
   "file_extension": ".py",
   "mimetype": "text/x-python",
   "name": "python",
   "nbconvert_exporter": "python",
   "pygments_lexer": "ipython3",
   "version": "3.12.1"
  }
 },
 "nbformat": 4,
 "nbformat_minor": 5
}
