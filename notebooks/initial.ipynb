{
 "cells": [
  {
   "cell_type": "markdown",
   "id": "457a551d",
   "metadata": {},
   "source": [
    "# Retrieval\n",
    "- In this notebook we aim to retrieve a report given a scan and vice versa\n",
    "- There are 2 methods available:\n",
    "    1. MedCLIP research paper's architecture\n",
    "        - Build similarity matrix and apply row-wise and column-wise softmax for ground truth\n",
    "        - Use Cross Entropy Loss\n",
    "    2. MedCLIP-SAM research paper's architecture\n",
    "        - Fine-tune existing BiomedCLIP retrieval model.\n",
    "        - Use DHN-NCE Loss function\n",
    "\n",
    "# Procedure (in .ipynb)\n",
    "1. torch.load(existing models)\n",
    "2. model.load_state_dict(torch.load(\"pretrained_weights.pth\"))\n",
    "3. Train as normal\n",
    "4. Export new weights *torch.save(model.state_dict(), \"new_weights.pth\")\n",
    "\n",
    "# Practically using model (in .py file)\n",
    "1. torch.load(same model)\n",
    "2. model.load_state_dict(torch.load(\"new_weights.pth\"))"
   ]
  },
  {
   "cell_type": "markdown",
   "id": "8e780f68",
   "metadata": {},
   "source": []
  }
 ],
 "metadata": {
  "language_info": {
   "name": "python"
  }
 },
 "nbformat": 4,
 "nbformat_minor": 5
}
