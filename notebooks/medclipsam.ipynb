{
  "nbformat": 4,
  "nbformat_minor": 0,
  "metadata": {
    "colab": {
      "provenance": [],
      "gpuType": "T4",
      "authorship_tag": "ABX9TyOWnZY/eRk5VrOtfR0UlScT",
      "include_colab_link": true
    },
    "kernelspec": {
      "name": "python3",
      "display_name": "Python 3"
    },
    "language_info": {
      "name": "python"
    },
    "accelerator": "GPU",
    "widgets": {
      "application/vnd.jupyter.widget-state+json": {
        "b05b4c6357d84b518c8c3c479bb8941e": {
          "model_module": "@jupyter-widgets/controls",
          "model_name": "HBoxModel",
          "model_module_version": "1.5.0",
          "state": {
            "_dom_classes": [],
            "_model_module": "@jupyter-widgets/controls",
            "_model_module_version": "1.5.0",
            "_model_name": "HBoxModel",
            "_view_count": null,
            "_view_module": "@jupyter-widgets/controls",
            "_view_module_version": "1.5.0",
            "_view_name": "HBoxView",
            "box_style": "",
            "children": [
              "IPY_MODEL_6480bb4378f340199d52feebbdd1d082",
              "IPY_MODEL_8bf8292686ec49a6b3086658c98c6254",
              "IPY_MODEL_13a3cdb72d404945ae5e080de9c4d41c"
            ],
            "layout": "IPY_MODEL_32f7e8a49a4a475c8762c5844e68320b"
          }
        },
        "6480bb4378f340199d52feebbdd1d082": {
          "model_module": "@jupyter-widgets/controls",
          "model_name": "HTMLModel",
          "model_module_version": "1.5.0",
          "state": {
            "_dom_classes": [],
            "_model_module": "@jupyter-widgets/controls",
            "_model_module_version": "1.5.0",
            "_model_name": "HTMLModel",
            "_view_count": null,
            "_view_module": "@jupyter-widgets/controls",
            "_view_module_version": "1.5.0",
            "_view_name": "HTMLView",
            "description": "",
            "description_tooltip": null,
            "layout": "IPY_MODEL_542180446d464580a2bf5a7b63adf0dd",
            "placeholder": "​",
            "style": "IPY_MODEL_d00a8713bcbb494c8b935e69d24f552e",
            "value": "Epoch 1:   0%"
          }
        },
        "8bf8292686ec49a6b3086658c98c6254": {
          "model_module": "@jupyter-widgets/controls",
          "model_name": "FloatProgressModel",
          "model_module_version": "1.5.0",
          "state": {
            "_dom_classes": [],
            "_model_module": "@jupyter-widgets/controls",
            "_model_module_version": "1.5.0",
            "_model_name": "FloatProgressModel",
            "_view_count": null,
            "_view_module": "@jupyter-widgets/controls",
            "_view_module_version": "1.5.0",
            "_view_name": "ProgressView",
            "bar_style": "danger",
            "description": "",
            "description_tooltip": null,
            "layout": "IPY_MODEL_1415531e78054905af1e50627561d840",
            "max": 1743,
            "min": 0,
            "orientation": "horizontal",
            "style": "IPY_MODEL_6cd57443714042e9b7ece4c4633c418a",
            "value": 0
          }
        },
        "13a3cdb72d404945ae5e080de9c4d41c": {
          "model_module": "@jupyter-widgets/controls",
          "model_name": "HTMLModel",
          "model_module_version": "1.5.0",
          "state": {
            "_dom_classes": [],
            "_model_module": "@jupyter-widgets/controls",
            "_model_module_version": "1.5.0",
            "_model_name": "HTMLModel",
            "_view_count": null,
            "_view_module": "@jupyter-widgets/controls",
            "_view_module_version": "1.5.0",
            "_view_name": "HTMLView",
            "description": "",
            "description_tooltip": null,
            "layout": "IPY_MODEL_e3c5ae5ab8cb495686aadccbec0bac12",
            "placeholder": "​",
            "style": "IPY_MODEL_00818b110f7c47008e492ac1ef8f4689",
            "value": " 0/1743 [00:00&lt;?, ?it/s]"
          }
        },
        "32f7e8a49a4a475c8762c5844e68320b": {
          "model_module": "@jupyter-widgets/base",
          "model_name": "LayoutModel",
          "model_module_version": "1.2.0",
          "state": {
            "_model_module": "@jupyter-widgets/base",
            "_model_module_version": "1.2.0",
            "_model_name": "LayoutModel",
            "_view_count": null,
            "_view_module": "@jupyter-widgets/base",
            "_view_module_version": "1.2.0",
            "_view_name": "LayoutView",
            "align_content": null,
            "align_items": null,
            "align_self": null,
            "border": null,
            "bottom": null,
            "display": null,
            "flex": null,
            "flex_flow": null,
            "grid_area": null,
            "grid_auto_columns": null,
            "grid_auto_flow": null,
            "grid_auto_rows": null,
            "grid_column": null,
            "grid_gap": null,
            "grid_row": null,
            "grid_template_areas": null,
            "grid_template_columns": null,
            "grid_template_rows": null,
            "height": null,
            "justify_content": null,
            "justify_items": null,
            "left": null,
            "margin": null,
            "max_height": null,
            "max_width": null,
            "min_height": null,
            "min_width": null,
            "object_fit": null,
            "object_position": null,
            "order": null,
            "overflow": null,
            "overflow_x": null,
            "overflow_y": null,
            "padding": null,
            "right": null,
            "top": null,
            "visibility": null,
            "width": null
          }
        },
        "542180446d464580a2bf5a7b63adf0dd": {
          "model_module": "@jupyter-widgets/base",
          "model_name": "LayoutModel",
          "model_module_version": "1.2.0",
          "state": {
            "_model_module": "@jupyter-widgets/base",
            "_model_module_version": "1.2.0",
            "_model_name": "LayoutModel",
            "_view_count": null,
            "_view_module": "@jupyter-widgets/base",
            "_view_module_version": "1.2.0",
            "_view_name": "LayoutView",
            "align_content": null,
            "align_items": null,
            "align_self": null,
            "border": null,
            "bottom": null,
            "display": null,
            "flex": null,
            "flex_flow": null,
            "grid_area": null,
            "grid_auto_columns": null,
            "grid_auto_flow": null,
            "grid_auto_rows": null,
            "grid_column": null,
            "grid_gap": null,
            "grid_row": null,
            "grid_template_areas": null,
            "grid_template_columns": null,
            "grid_template_rows": null,
            "height": null,
            "justify_content": null,
            "justify_items": null,
            "left": null,
            "margin": null,
            "max_height": null,
            "max_width": null,
            "min_height": null,
            "min_width": null,
            "object_fit": null,
            "object_position": null,
            "order": null,
            "overflow": null,
            "overflow_x": null,
            "overflow_y": null,
            "padding": null,
            "right": null,
            "top": null,
            "visibility": null,
            "width": null
          }
        },
        "d00a8713bcbb494c8b935e69d24f552e": {
          "model_module": "@jupyter-widgets/controls",
          "model_name": "DescriptionStyleModel",
          "model_module_version": "1.5.0",
          "state": {
            "_model_module": "@jupyter-widgets/controls",
            "_model_module_version": "1.5.0",
            "_model_name": "DescriptionStyleModel",
            "_view_count": null,
            "_view_module": "@jupyter-widgets/base",
            "_view_module_version": "1.2.0",
            "_view_name": "StyleView",
            "description_width": ""
          }
        },
        "1415531e78054905af1e50627561d840": {
          "model_module": "@jupyter-widgets/base",
          "model_name": "LayoutModel",
          "model_module_version": "1.2.0",
          "state": {
            "_model_module": "@jupyter-widgets/base",
            "_model_module_version": "1.2.0",
            "_model_name": "LayoutModel",
            "_view_count": null,
            "_view_module": "@jupyter-widgets/base",
            "_view_module_version": "1.2.0",
            "_view_name": "LayoutView",
            "align_content": null,
            "align_items": null,
            "align_self": null,
            "border": null,
            "bottom": null,
            "display": null,
            "flex": null,
            "flex_flow": null,
            "grid_area": null,
            "grid_auto_columns": null,
            "grid_auto_flow": null,
            "grid_auto_rows": null,
            "grid_column": null,
            "grid_gap": null,
            "grid_row": null,
            "grid_template_areas": null,
            "grid_template_columns": null,
            "grid_template_rows": null,
            "height": null,
            "justify_content": null,
            "justify_items": null,
            "left": null,
            "margin": null,
            "max_height": null,
            "max_width": null,
            "min_height": null,
            "min_width": null,
            "object_fit": null,
            "object_position": null,
            "order": null,
            "overflow": null,
            "overflow_x": null,
            "overflow_y": null,
            "padding": null,
            "right": null,
            "top": null,
            "visibility": null,
            "width": null
          }
        },
        "6cd57443714042e9b7ece4c4633c418a": {
          "model_module": "@jupyter-widgets/controls",
          "model_name": "ProgressStyleModel",
          "model_module_version": "1.5.0",
          "state": {
            "_model_module": "@jupyter-widgets/controls",
            "_model_module_version": "1.5.0",
            "_model_name": "ProgressStyleModel",
            "_view_count": null,
            "_view_module": "@jupyter-widgets/base",
            "_view_module_version": "1.2.0",
            "_view_name": "StyleView",
            "bar_color": null,
            "description_width": ""
          }
        },
        "e3c5ae5ab8cb495686aadccbec0bac12": {
          "model_module": "@jupyter-widgets/base",
          "model_name": "LayoutModel",
          "model_module_version": "1.2.0",
          "state": {
            "_model_module": "@jupyter-widgets/base",
            "_model_module_version": "1.2.0",
            "_model_name": "LayoutModel",
            "_view_count": null,
            "_view_module": "@jupyter-widgets/base",
            "_view_module_version": "1.2.0",
            "_view_name": "LayoutView",
            "align_content": null,
            "align_items": null,
            "align_self": null,
            "border": null,
            "bottom": null,
            "display": null,
            "flex": null,
            "flex_flow": null,
            "grid_area": null,
            "grid_auto_columns": null,
            "grid_auto_flow": null,
            "grid_auto_rows": null,
            "grid_column": null,
            "grid_gap": null,
            "grid_row": null,
            "grid_template_areas": null,
            "grid_template_columns": null,
            "grid_template_rows": null,
            "height": null,
            "justify_content": null,
            "justify_items": null,
            "left": null,
            "margin": null,
            "max_height": null,
            "max_width": null,
            "min_height": null,
            "min_width": null,
            "object_fit": null,
            "object_position": null,
            "order": null,
            "overflow": null,
            "overflow_x": null,
            "overflow_y": null,
            "padding": null,
            "right": null,
            "top": null,
            "visibility": null,
            "width": null
          }
        },
        "00818b110f7c47008e492ac1ef8f4689": {
          "model_module": "@jupyter-widgets/controls",
          "model_name": "DescriptionStyleModel",
          "model_module_version": "1.5.0",
          "state": {
            "_model_module": "@jupyter-widgets/controls",
            "_model_module_version": "1.5.0",
            "_model_name": "DescriptionStyleModel",
            "_view_count": null,
            "_view_module": "@jupyter-widgets/base",
            "_view_module_version": "1.2.0",
            "_view_name": "StyleView",
            "description_width": ""
          }
        }
      }
    }
  },
  "cells": [
    {
      "cell_type": "markdown",
      "metadata": {
        "id": "view-in-github",
        "colab_type": "text"
      },
      "source": [
        "<a href=\"https://colab.research.google.com/github/Zain506/MedCLIP-SAM/blob/main/notebooks/medclipsam.ipynb\" target=\"_parent\"><img src=\"https://colab.research.google.com/assets/colab-badge.svg\" alt=\"Open In Colab\"/></a>"
      ]
    },
    {
      "cell_type": "markdown",
      "source": [
        "## MedCLIP-SAM\n",
        "\n",
        "[Research Paper](https://arxiv.org/pdf/2403.20253)\n",
        "\n"
      ],
      "metadata": {
        "id": "YdgyzEvf-BEs"
      }
    },
    {
      "cell_type": "code",
      "execution_count": 1,
      "metadata": {
        "id": "2f1L8ESy99up"
      },
      "outputs": [],
      "source": [
        "from datasets import load_dataset\n",
        "\n",
        "ds = load_dataset(\"adishourya/MEDPIX-ClinQA\") # Import MedPIX dataset\n"
      ]
    },
    {
      "cell_type": "code",
      "source": [
        "train_valid = ds[\"train\"].train_test_split(test_size=0.15)\n",
        "training = train_valid[\"train\"] # .select(range(1024))\n",
        "validation = train_valid[\"test\"]\n",
        "print(training)"
      ],
      "metadata": {
        "colab": {
          "base_uri": "https://localhost:8080/"
        },
        "id": "C4UcdOTutWLR",
        "outputId": "1fece810-825b-4d97-afa1-f58157f11cce"
      },
      "execution_count": 2,
      "outputs": [
        {
          "output_type": "stream",
          "name": "stdout",
          "text": [
            "Dataset({\n",
            "    features: ['image_id', 'mode', 'case_id', 'question', 'answer'],\n",
            "    num_rows: 17425\n",
            "})\n"
          ]
        }
      ]
    },
    {
      "cell_type": "code",
      "source": [
        "import torch\n",
        "device  = \"cuda\" if torch.cuda.is_available() else \"cpu\"\n",
        "print(\"Processor: \", device)"
      ],
      "metadata": {
        "colab": {
          "base_uri": "https://localhost:8080/"
        },
        "id": "7nvrQtXqdwFr",
        "outputId": "edfbde53-71e1-4548-a47f-0906d388e17e"
      },
      "execution_count": 3,
      "outputs": [
        {
          "output_type": "stream",
          "name": "stdout",
          "text": [
            "Processor:  cuda\n"
          ]
        }
      ]
    },
    {
      "cell_type": "markdown",
      "source": [
        "## There are 3 components of the CLIP-style architecture\n",
        "1. Text Encoder (PubMedBERT)\n",
        "2. Image Encoder (ViT)\n",
        "3. Model mapping encoded images and text into the shared embedding space\n",
        "\n",
        "**BiomedCLIP from open_clip contains all of them, and that is what MedCLIP-SAM aims to fine-tune**"
      ],
      "metadata": {
        "id": "ECwEYsPocsCr"
      }
    },
    {
      "cell_type": "code",
      "source": [
        "%%capture cap\n",
        "%pip install open_clip_torch # run ``cap.show()`` in order to see the output here"
      ],
      "metadata": {
        "id": "RkuVklKXf8eu"
      },
      "execution_count": 4,
      "outputs": []
    },
    {
      "cell_type": "code",
      "source": [
        "import torch\n",
        "from PIL import Image\n",
        "import open_clip\n",
        "\n",
        "model, _, preprocess = open_clip.create_model_and_transforms('ViT-B-32', pretrained='laion2b_s34b_b79k')\n",
        "# model.eval()  # model in train mode by default, impacts some models with BatchNorm or stochastic depth active\n",
        "model = model.to(device)\n",
        "tokenizer = open_clip.get_tokenizer('ViT-B-32')"
      ],
      "metadata": {
        "id": "ui9m6RPEf0Ah"
      },
      "execution_count": 5,
      "outputs": []
    },
    {
      "cell_type": "code",
      "source": [
        "import torch\n",
        "from torch.utils.data import DataLoader\n",
        "bsize: int = 10 # Batch Size\n",
        "# In this case the data in the dataset isn't in tensor form - so we need to define a custom collate_fn to convert them into tensors\n",
        "def collate_fn(batch): # Define custom collate_fn to convert relevant data in each batch to tensor\n",
        "  images = torch.stack([preprocess(x['image_id']) for x in batch])\n",
        "  texts = tokenizer([f\"Prompt: {x['question']} \\nAnswer: {x['answer']}\" for x in batch])\n",
        "\n",
        "  return images, texts\n",
        "\n",
        "train_loader = DataLoader(training, batch_size=bsize, shuffle=True, collate_fn=collate_fn) # Each tensor in the train_loader will have dimension `batch_size` in axis=0"
      ],
      "metadata": {
        "id": "R-qzEDOwib1-"
      },
      "execution_count": 6,
      "outputs": []
    },
    {
      "cell_type": "code",
      "source": [
        "import torch\n",
        "import torch.nn.functional as F\n",
        "\n",
        "\n",
        "def _lossComp(sim: torch.Tensor, t: float, b: float) -> torch.Tensor: # Calculate total loss\n",
        "  # Calculate exponential of scaled similarity\n",
        "  A = torch.exp(sim/t)\n",
        "  # Calculate Weight matrix\n",
        "  I = torch.eye(bsize).to(device)\n",
        "  W = (bsize -1) * torch.softmax(A ** b - I@(A**b), dim=-1)\n",
        "  # Hadamaard product\n",
        "  tmp = A * W\n",
        "  # Sum of log of sum\n",
        "  loss = torch.sum(torch.log(torch.sum(tmp, dim=-1)))\n",
        "  return loss\n",
        "\n",
        "def Loss(sim: torch.Tensor, t, b1, b2) -> torch.Tensor:\n",
        "  return _lossComp(sim, t, b1) + _lossComp(sim.T, t, b2)"
      ],
      "metadata": {
        "id": "KDWSgN9pA-FD"
      },
      "execution_count": 37,
      "outputs": []
    },
    {
      "cell_type": "code",
      "source": [
        "# Iterate over images, texts in train_loader\n",
        "import torch.nn.functional as F\n",
        "import torch\n",
        "from tqdm.notebook import tqdm\n",
        "optimizer = torch.optim.AdamW( # Freezing a part of the model requires us to set requires_grad=False\n",
        "    model.parameters(), # All trainable params\n",
        "    lr = 5e-6,\n",
        "    weight_decay = 0.01 # L1 reg\n",
        ")\n",
        "\n",
        "t = 0.1\n",
        "b1 = 0.1\n",
        "b2 = 0.1\n",
        "\n",
        "epochs = 1\n",
        "for epoch in range(epochs):\n",
        "  for images, texts in tqdm(train_loader, desc=f\"Epoch {epoch + 1}\"):\n",
        "\n",
        "    images = images.to(device)\n",
        "    texts = texts.to(device)\n",
        "    I = model.encode_image(images)\n",
        "    I = F.normalize(I, p=2, dim=-1)\n",
        "    T = model.encode_text(texts)\n",
        "    T = F.normalize(T, p=2, dim=-1)\n",
        "    sim = I @ T.T\n",
        "    sim /= t\n",
        "    A = torch.exp(sim)\n",
        "    print(\"A: \", A)\n",
        "    print(A.shape)\n",
        "    # Work on softmax function: Does it work well?\n",
        "    W = torch.softmax((sim ** b1), dim=-1).fill_diagonal_(-1).to(device)\n",
        "    print(\"W: \", W)\n",
        "    # loss = Loss(sim, t, b1, b2)\n",
        "    # print(loss)\n",
        "    break"
      ],
      "metadata": {
        "id": "52dFCU-P0uzR",
        "colab": {
          "base_uri": "https://localhost:8080/",
          "height": 782,
          "referenced_widgets": [
            "b05b4c6357d84b518c8c3c479bb8941e",
            "6480bb4378f340199d52feebbdd1d082",
            "8bf8292686ec49a6b3086658c98c6254",
            "13a3cdb72d404945ae5e080de9c4d41c",
            "32f7e8a49a4a475c8762c5844e68320b",
            "542180446d464580a2bf5a7b63adf0dd",
            "d00a8713bcbb494c8b935e69d24f552e",
            "1415531e78054905af1e50627561d840",
            "6cd57443714042e9b7ece4c4633c418a",
            "e3c5ae5ab8cb495686aadccbec0bac12",
            "00818b110f7c47008e492ac1ef8f4689"
          ]
        },
        "outputId": "2d62ee94-b5c6-4003-8f2b-d1ab1295f9f4"
      },
      "execution_count": 54,
      "outputs": [
        {
          "output_type": "display_data",
          "data": {
            "text/plain": [
              "Epoch 1:   0%|          | 0/1743 [00:00<?, ?it/s]"
            ],
            "application/vnd.jupyter.widget-view+json": {
              "version_major": 2,
              "version_minor": 0,
              "model_id": "b05b4c6357d84b518c8c3c479bb8941e"
            }
          },
          "metadata": {}
        },
        {
          "output_type": "stream",
          "name": "stdout",
          "text": [
            "A:  tensor([[24.4138, 10.4554, 12.2073, 18.1422, 10.7611, 23.0422, 17.0301,  6.3610,\n",
            "         19.6024, 14.3857],\n",
            "        [14.1356, 11.2177, 22.4982, 19.9671,  9.5874, 30.5742, 14.9694, 12.7460,\n",
            "         13.9993, 13.3294],\n",
            "        [14.2592, 10.6221, 18.8314, 23.7812,  9.5610, 19.8081, 18.5962, 11.2190,\n",
            "         15.1303, 14.6585],\n",
            "        [18.5039, 11.7955, 16.9714, 23.2924,  9.0552, 29.3055, 16.0602,  7.3933,\n",
            "         13.4074, 12.2411],\n",
            "        [13.7196, 11.8740, 12.8726, 17.7133,  9.2059, 17.8600, 18.2057,  7.2555,\n",
            "          9.9457, 10.0960],\n",
            "        [13.2472, 13.4415, 17.4430, 19.4257,  8.4657, 26.9604, 19.7382,  8.9739,\n",
            "         13.9328, 14.8924],\n",
            "        [12.2688,  9.6273, 18.1002, 20.7181,  9.2868, 19.4978, 13.3780, 10.2052,\n",
            "         12.1526, 12.8853],\n",
            "        [10.1821,  8.8881, 23.8240, 19.3660, 10.4198, 16.6380, 13.4612, 14.9733,\n",
            "         10.7721, 12.9717],\n",
            "        [22.6513, 13.1835, 21.2604, 26.5196, 11.2503, 32.2647, 20.7832, 11.5874,\n",
            "         19.1846, 15.6024],\n",
            "        [15.1040,  7.5467, 15.5826, 22.9764,  7.7587, 14.5134, 15.5049, 11.0497,\n",
            "         10.7651,  9.5059]], device='cuda:0', grad_fn=<ExpBackward0>)\n",
            "torch.Size([10, 10])\n",
            "W:  tensor([[-1.0000,  0.0987,  0.0994,  0.1010,  0.0988,  0.1019,  0.1007,  0.0962,\n",
            "          0.1013,  0.1001],\n",
            "        [ 0.0997, -1.0000,  0.1015,  0.1011,  0.0980,  0.1026,  0.0999,  0.0993,\n",
            "          0.0997,  0.0995],\n",
            "        [ 0.0998,  0.0986, -1.0000,  0.1018,  0.0981,  0.1011,  0.1009,  0.0988,\n",
            "          0.1001,  0.0999],\n",
            "        [ 0.1010,  0.0992,  0.1007, -1.0000,  0.0980,  0.1027,  0.1005,  0.0970,\n",
            "          0.0997,  0.0993],\n",
            "        [ 0.1005,  0.0999,  0.1003,  0.1016, -1.0000,  0.1016,  0.1017,  0.0975,\n",
            "          0.0991,  0.0992],\n",
            "        [ 0.0996,  0.0997,  0.1007,  0.1011,  0.0976, -1.0000,  0.1012,  0.0978,\n",
            "          0.0998,  0.1001],\n",
            "        [ 0.0997,  0.0986,  0.1013,  0.1018,  0.0984,  0.1016, -1.0000,  0.0989,\n",
            "          0.0997,  0.0999],\n",
            "        [ 0.0988,  0.0982,  0.1023,  0.1015,  0.0989,  0.1009,  0.1000, -1.0000,\n",
            "          0.0991,  0.0999],\n",
            "        [ 0.1008,  0.0987,  0.1006,  0.1014,  0.0980,  0.1021,  0.1005,  0.0982,\n",
            "         -1.0000,  0.0994],\n",
            "        [ 0.1009,  0.0977,  0.1011,  0.1026,  0.0979,  0.1008,  0.1010,  0.0996,\n",
            "          0.0995, -1.0000]], device='cuda:0', grad_fn=<CopySlices>)\n"
          ]
        }
      ]
    },
    {
      "cell_type": "code",
      "source": [],
      "metadata": {
        "id": "NSrbPQJdJPns"
      },
      "execution_count": null,
      "outputs": []
    }
  ]
}