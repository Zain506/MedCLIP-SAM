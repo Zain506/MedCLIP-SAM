{
  "nbformat": 4,
  "nbformat_minor": 0,
  "metadata": {
    "colab": {
      "provenance": [],
      "gpuType": "T4",
      "authorship_tag": "ABX9TyN2UahjImRwJOFI1jidxMrN",
      "include_colab_link": true
    },
    "kernelspec": {
      "name": "python3",
      "display_name": "Python 3"
    },
    "language_info": {
      "name": "python"
    },
    "accelerator": "GPU"
  },
  "cells": [
    {
      "cell_type": "markdown",
      "metadata": {
        "id": "view-in-github",
        "colab_type": "text"
      },
      "source": [
        "<a href=\"https://colab.research.google.com/github/Zain506/MedCLIP-SAM/blob/main/notebooks/medclipsam.ipynb\" target=\"_parent\"><img src=\"https://colab.research.google.com/assets/colab-badge.svg\" alt=\"Open In Colab\"/></a>"
      ]
    },
    {
      "cell_type": "markdown",
      "source": [
        "## MedCLIP-SAM\n",
        "\n",
        "[Research Paper](https://arxiv.org/pdf/2403.20253)\n",
        "\n"
      ],
      "metadata": {
        "id": "YdgyzEvf-BEs"
      }
    },
    {
      "cell_type": "code",
      "execution_count": null,
      "metadata": {
        "id": "2f1L8ESy99up"
      },
      "outputs": [],
      "source": [
        "from datasets import load_dataset\n",
        "\n",
        "ds = load_dataset(\"adishourya/MEDPIX-ClinQA\") # Import MedPIX dataset\n"
      ]
    },
    {
      "cell_type": "code",
      "source": [
        "train_valid = ds[\"train\"].train_test_split(test_size=0.15)\n",
        "training = train_valid[\"train\"] # .select(range(1024))\n",
        "validation = train_valid[\"test\"]\n",
        "print(training)"
      ],
      "metadata": {
        "colab": {
          "base_uri": "https://localhost:8080/"
        },
        "id": "C4UcdOTutWLR",
        "outputId": "85516549-cd2a-4f1a-ce59-610828cae4e5"
      },
      "execution_count": null,
      "outputs": [
        {
          "output_type": "stream",
          "name": "stdout",
          "text": [
            "Dataset({\n",
            "    features: ['image_id', 'mode', 'case_id', 'question', 'answer'],\n",
            "    num_rows: 17425\n",
            "})\n"
          ]
        }
      ]
    },
    {
      "cell_type": "code",
      "source": [
        "import torch\n",
        "device  = \"cuda\" if torch.cuda.is_available() else \"cpu\"\n",
        "print(\"Processor: \", device)"
      ],
      "metadata": {
        "colab": {
          "base_uri": "https://localhost:8080/"
        },
        "id": "7nvrQtXqdwFr",
        "outputId": "fe51dfc0-d921-4a15-d974-2b3dc989656a"
      },
      "execution_count": null,
      "outputs": [
        {
          "output_type": "stream",
          "name": "stdout",
          "text": [
            "Processor:  cuda\n"
          ]
        }
      ]
    },
    {
      "cell_type": "markdown",
      "source": [
        "## There are 3 components of the CLIP-style architecture\n",
        "1. Text Encoder (PubMedBERT)\n",
        "2. Image Encoder (ViT)\n",
        "3. Model mapping encoded images and text into the shared embedding space\n",
        "\n",
        "**BiomedCLIP from open_clip contains all of them, and that is what MedCLIP-SAM aims to fine-tune**"
      ],
      "metadata": {
        "id": "ECwEYsPocsCr"
      }
    },
    {
      "cell_type": "code",
      "source": [
        "%%capture cap\n",
        "%pip install open_clip_torch # run ``cap.show()`` in order to see the output here"
      ],
      "metadata": {
        "id": "RkuVklKXf8eu"
      },
      "execution_count": null,
      "outputs": []
    },
    {
      "cell_type": "markdown",
      "source": [
        "## Import model"
      ],
      "metadata": {
        "id": "0Lu-c1Z_Ul0a"
      }
    },
    {
      "cell_type": "code",
      "source": [
        "import torch\n",
        "from PIL import Image\n",
        "import open_clip\n",
        "\n",
        "model, _, preprocess = open_clip.create_model_and_transforms('ViT-B-32', pretrained='laion2b_s34b_b79k')\n",
        "model = model.to(device)\n",
        "tokenizer = open_clip.get_tokenizer('ViT-B-32')"
      ],
      "metadata": {
        "id": "ui9m6RPEf0Ah"
      },
      "execution_count": null,
      "outputs": []
    },
    {
      "cell_type": "markdown",
      "source": [
        "## Load data for training"
      ],
      "metadata": {
        "id": "YTLXYhMWUrqL"
      }
    },
    {
      "cell_type": "code",
      "source": [
        "import torch\n",
        "from torch.utils.data import DataLoader\n",
        "bsize: int = 128\n",
        "def collate_fn(batch):\n",
        "  images = torch.stack([preprocess(x['image_id']) for x in batch])\n",
        "  texts = tokenizer([f\"Prompt: {x['question']} \\nAnswer: {x['answer']}\" for x in batch])\n",
        "\n",
        "  return images, texts\n",
        "\n",
        "train_loader = DataLoader(training, batch_size=bsize, shuffle=True, collate_fn=collate_fn)\n",
        "val_loader = DataLoader(validation, batch_size=bsize, shuffle=True, collate_fn=collate_fn)"
      ],
      "metadata": {
        "id": "R-qzEDOwib1-"
      },
      "execution_count": null,
      "outputs": []
    },
    {
      "cell_type": "markdown",
      "source": [
        "## Define loss function"
      ],
      "metadata": {
        "id": "F784_MVNUuOJ"
      }
    },
    {
      "cell_type": "code",
      "source": [
        "def runData(images, texts):\n",
        "  images = images.to(device)\n",
        "  texts = texts.to(device)\n",
        "  I = model.encode_image(images)\n",
        "  I = F.normalize(I, p=2, dim=-1)\n",
        "  T = model.encode_text(texts)\n",
        "  T = F.normalize(T, p=2, dim=-1)\n",
        "  return I, T"
      ],
      "metadata": {
        "id": "jGao6MYRVLpV"
      },
      "execution_count": null,
      "outputs": []
    },
    {
      "cell_type": "code",
      "source": [
        "import torch\n",
        "import torch.nn.functional as F\n",
        "\n",
        "def calcLoss(sim: torch.Tensor, b: float) -> torch.Tensor:\n",
        "  A = torch.exp(sim)\n",
        "  X = b1*sim\n",
        "  X.diagonal().fill_(-torch.inf)\n",
        "  W = (bsize-1)*torch.softmax(X, dim=-1)\n",
        "  W.diagonal().fill_(-1)\n",
        "  loss = torch.sum(torch.log(torch.sum(A*W, dim=-1)))\n",
        "  return loss"
      ],
      "metadata": {
        "id": "KDWSgN9pA-FD"
      },
      "execution_count": null,
      "outputs": []
    },
    {
      "cell_type": "markdown",
      "source": [
        "## Train"
      ],
      "metadata": {
        "id": "PvUtsxZCUyjM"
      }
    },
    {
      "cell_type": "code",
      "source": [
        "# Iterate over images, texts in train_loader\n",
        "import torch.nn.functional as F\n",
        "import torch\n",
        "from tqdm.notebook import tqdm\n",
        "optimizer = torch.optim.AdamW( # Freezing a part of the model requires us to set requires_grad=False\n",
        "    model.parameters(), # All trainable params\n",
        "    lr = 5e-6,\n",
        "    weight_decay = 0.01 # L1 reg\n",
        ")\n",
        "\n",
        "t = 0.1\n",
        "b1 = 0.1\n",
        "b2 = 0.1\n",
        "\n",
        "epochs = 5\n",
        "\n",
        "losses = []\n",
        "\n",
        "\n",
        "for epoch in range(epochs):\n",
        "  for images, texts in tqdm(train_loader, desc=f\"Training Epoch {epoch + 1}\"):\n",
        "\n",
        "    I, T = runData(images, texts)\n",
        "\n",
        "    sim = I @ T.T\n",
        "    sim /= t\n",
        "    loss = calcLoss(sim, b1) + calcLoss(sim.T, b2)\n",
        "    loss.backward()\n",
        "    optimizer.step()\n",
        "    optimizer.zero_grad()\n",
        "  # Test on validation set\n",
        "  with torch.no_grad():\n",
        "    l = 0\n",
        "    for images, texts in tqdm(val_loader, desc=f\"Testing Epoch {epoch+1}\"):\n",
        "      I, T = runData(images, texts)\n",
        "      sim = I @ T.T\n",
        "      sim /= t\n",
        "      l += calcLoss(sim, b1) + calcLoss(sim.T, b2)\n",
        "    losses.append(l/len(val_loader))\n"
      ],
      "metadata": {
        "id": "52dFCU-P0uzR"
      },
      "execution_count": null,
      "outputs": []
    },
    {
      "cell_type": "code",
      "source": [
        "import matplotlib.pyplot as plt\n",
        "print(type(losses[0]))\n",
        "plt.plot([loss.cpu().numpy() for loss in losses])\n",
        "plt.show()"
      ],
      "metadata": {
        "id": "hCasMQxC_Y2-",
        "colab": {
          "base_uri": "https://localhost:8080/",
          "height": 448
        },
        "outputId": "d0ccda3f-bc40-4d64-e408-70b9b99bcd93"
      },
      "execution_count": null,
      "outputs": [
        {
          "output_type": "stream",
          "name": "stdout",
          "text": [
            "<class 'torch.Tensor'>\n"
          ]
        },
        {
          "output_type": "display_data",
          "data": {
            "text/plain": [
              "<Figure size 640x480 with 1 Axes>"
            ],
            "image/png": "[encoded data removed]"
          },
          "metadata": {}
        }
      ]
    },
    {
      "cell_type": "code",
      "source": [
        "import torch\n",
        "\n",
        "# Assuming 'model' is your neural network\n",
        "torch.save(model.state_dict(), 'model_weights.pth')\n"
      ],
      "metadata": {
        "id": "jMcPedwItJ2Z"
      },
      "execution_count": null,
      "outputs": []
    }
  ]
}